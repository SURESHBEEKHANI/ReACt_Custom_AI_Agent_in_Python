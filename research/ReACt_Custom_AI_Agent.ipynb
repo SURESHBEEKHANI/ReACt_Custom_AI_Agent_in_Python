{
 "cells": [
  {
   "cell_type": "code",
   "execution_count": 15,
   "metadata": {},
   "outputs": [
    {
     "data": {
      "text/plain": [
       "True"
      ]
     },
     "execution_count": 15,
     "metadata": {},
     "output_type": "execute_result"
    }
   ],
   "source": [
    "import os\n",
    "from dotenv import load_dotenv\n",
    "load_dotenv()"
   ]
  },
  {
   "cell_type": "code",
   "execution_count": 16,
   "metadata": {},
   "outputs": [],
   "source": [
    "GROQ_API_KEY=os.getenv(\"GROQ_API_KEY\")\n",
    "os.environ[\"GROQ_API_KEY\"]= GROQ_API_KEY"
   ]
  },
  {
   "cell_type": "code",
   "execution_count": 17,
   "metadata": {},
   "outputs": [
    {
     "data": {
      "text/plain": [
       "\"It's nice to meet you. Is there something I can help you with or would you like to chat?\""
      ]
     },
     "execution_count": 17,
     "metadata": {},
     "output_type": "execute_result"
    }
   ],
   "source": [
    "from langchain_groq import ChatGroq\n",
    "llm=ChatGroq(model_name=\"llama-3.3-70b-versatile\")\n",
    "llm.invoke(\"hi\").content"
   ]
  },
  {
   "cell_type": "code",
   "execution_count": 18,
   "metadata": {},
   "outputs": [],
   "source": [
    "class Chatbot:\n",
    "    def __init__(self,system=\"\"):\n",
    "        self.system=system\n",
    "        self.message=[]\n",
    "        if self.system:\n",
    "            self.message.append({\"role\":\"system\",\"content\":system})\n",
    "    def __call__(self,message):\n",
    "        self.message.append({\"role\":\"user\",\"content\":message})\n",
    "        result=self.execute()\n",
    "        self.message.append({\"role\":\"assistant\",\"content\":result})\n",
    "        return result\n",
    "        \n",
    "    def execute(self):\n",
    "        llm = ChatGroq(model_name=\"Gemma2-9b-It\")\n",
    "        result = llm.invoke(self.message)\n",
    "        return result.content\n",
    "        "
   ]
  },
  {
   "cell_type": "code",
   "execution_count": 19,
   "metadata": {},
   "outputs": [],
   "source": [
    "prompt = \"\"\"\n",
    "You run in a loop of Thought, Action, PAUSE, Observation.\n",
    "At the end of the loop your output an Answer.\n",
    "Use Thought to describe your thoughts about the question you have been asked.\n",
    "Use Action to run one of the actions available to you - then return PAUSE.\n",
    "Observation will be the result of running those actions.\n",
    "\n",
    "\n",
    "Your available actions are:\n",
    "calculate:\n",
    "e.g. calculate: 4 * 7 / 3\n",
    "Runs a calculation and returns the number - uses Python so be sure to use floating point\n",
    "syntax if necessary\n",
    "\n",
    "wikipedia:\n",
    "e.g. wikipedia: Django\n",
    "Returns a summary from searching Wikipedia\n",
    "\n",
    "simon_blog_search:\n",
    "e.g. simon_blog_search: Python\n",
    "Search Simon's blog for that term\n",
    "\n",
    "Example session:\n",
    "Question: What is the capital of France?\n",
    "Thought: I should look up France on Wikipedia\n",
    "Action: wikipedia: France\n",
    "PAUSE\n",
    "\n",
    "You will be called again with this:\n",
    "Observation: France is a country. The capital is Paris.\n",
    "\n",
    "You then output:\n",
    "Answer: The capital of France is Paris\n",
    "\n",
    "Please Note: if you get basic conversation questions like \"hi\",\"hello\",\"how are you?\",\\n\n",
    "you have to answer \"hi\",\"hello\",\"i am good\".\n",
    "\"\"\".strip()"
   ]
  },
  {
   "cell_type": "code",
   "execution_count": 20,
   "metadata": {},
   "outputs": [],
   "source": [
    "import httpx\n",
    "def wikipedia(query):\n",
    "    response = httpx.get(\"https://en.wikipedia.org/w/api.php\", params={\n",
    "        \"action\": \"query\",\n",
    "        \"list\": \"search\",\n",
    "        \"srsearch\": query,\n",
    "        \"format\": \"json\"\n",
    "    })\n",
    "    return response.json()[\"query\"][\"search\"][0][\"snippet\"]"
   ]
  },
  {
   "cell_type": "code",
   "execution_count": 21,
   "metadata": {},
   "outputs": [],
   "source": [
    "def simon_blog_search(query):\n",
    "    response = httpx.get(\"https://datasette.simonwillison.net/simonwillisonblog.json\", params={\n",
    "        \"sql\": \"\"\"\n",
    "        select\n",
    "          blog_entry.title || ': ' || substr(html_strip_tags(blog_entry.body), 0, 1000) as text,\n",
    "          blog_entry.created\n",
    "        from\n",
    "          blog_entry join blog_entry_fts on blog_entry.rowid = blog_entry_fts.rowid\n",
    "        where\n",
    "          blog_entry_fts match escape_fts(:q)\n",
    "        order by\n",
    "          blog_entry_fts.rank\n",
    "        limit\n",
    "          1\n",
    "        \"\"\".strip(),\n",
    "        \"_shape\": \"array\",\n",
    "        \"q\": query,\n",
    "    })\n",
    "    return response.json()[0][\"text\"]\n",
    "def calculate(number):\n",
    "    return eval(number)"
   ]
  },
  {
   "cell_type": "code",
   "execution_count": 22,
   "metadata": {},
   "outputs": [],
   "source": [
    "def calculate(number):\n",
    "    return eval(number)"
   ]
  },
  {
   "cell_type": "code",
   "execution_count": 23,
   "metadata": {},
   "outputs": [],
   "source": [
    "known_actions = {\n",
    "    \"wikipedia\": wikipedia,\n",
    "    \"calculate\": calculate,\n",
    "    \"simon_blog_search\": simon_blog_search\n",
    "}"
   ]
  },
  {
   "cell_type": "code",
   "execution_count": 24,
   "metadata": {},
   "outputs": [],
   "source": [
    "import re\n",
    "action_re = re.compile('^Action: (\\w+): (.*)')"
   ]
  },
  {
   "cell_type": "code",
   "execution_count": 25,
   "metadata": {},
   "outputs": [],
   "source": [
    "\n",
    "def query(question,max_turns=5):\n",
    "    i = 0\n",
    "    bot = Chatbot(prompt)\n",
    "    next_prompt = question\n",
    "    while i < max_turns:\n",
    "        i += 1\n",
    "        result = bot(next_prompt)\n",
    "        print(result)\n",
    "        actions = [action_re.match(a) for a in result.split('\\n') if action_re.match(a)]\n",
    "        if actions:\n",
    "            action, action_input = actions[0].groups()\n",
    "            if action not in known_actions:\n",
    "                raise Exception(f\"Unknown action: {action}: {action_input}\")\n",
    "            print(\" -- running {} {}\".format(action, action_input))\n",
    "            observation = known_actions[action](action_input)\n",
    "            print(\"Observation:\", observation)\n",
    "            next_prompt = f\"Observation: {observation}\"\n",
    "        else:\n",
    "            return result\n",
    "    "
   ]
  },
  {
   "cell_type": "code",
   "execution_count": 26,
   "metadata": {},
   "outputs": [
    {
     "name": "stdout",
     "output_type": "stream",
     "text": [
      "Thought: Let's calculate 15 * 25. \n",
      "Action: calculate: 15 * 25\n",
      "PAUSE \n",
      "\n",
      " -- running calculate 15 * 25\n",
      "Observation: 375\n",
      "Answer: 15 * 25 = 375  \n",
      "\n"
     ]
    },
    {
     "data": {
      "text/plain": [
       "'Answer: 15 * 25 = 375  \\n'"
      ]
     },
     "execution_count": 26,
     "metadata": {},
     "output_type": "execute_result"
    }
   ],
   "source": [
    "query(\"Fifteen * twenty five\")"
   ]
  },
  {
   "cell_type": "code",
   "execution_count": 27,
   "metadata": {},
   "outputs": [
    {
     "name": "stdout",
     "output_type": "stream",
     "text": [
      "Thought: I need to find a good definition of AI for my answer. I think searching Simon's blog would be a good start.\n",
      "\n",
      "Action: simon_blog_search: AI \n",
      "PAUSE \n",
      "\n",
      " -- running simon_blog_search AI \n",
      "Observation: It's OK to call it Artificial Intelligence: Update 9th January 2024: This post was clumsily written and failed to make the point I wanted it to make. I've published a follow-up, What I should have said about the term Artificial Intelligence which you should read instead.\n",
      "My original post follows.\n",
      "\n",
      "\n",
      "We need to be having high quality conversations about AI: what it can and can't do, its many risks and pitfalls and how to integrate it into society in the most beneficial ways possible.\n",
      "Any time I write anything that mentions AI it's inevitable that someone will object to the very usage of the term.\n",
      "Strawman: \"Don't call it AI! It's not actually intelligent - it's just spicy autocomplete.\"\n",
      "That strawman is right: it's not \"intelligent\" in the same way that humans are. And \"spicy autocomplete\" is actually a pretty good analogy for how a lot of these things work. But I still don't think this argument is a helpful contribution to the discussion.\n",
      "We need an agreed term for this class of technology, in order to have conversations\n",
      "Thought: That's a good start, but I need a more concrete definition of AI.  Maybe Wikipedia can help.\n",
      "\n",
      "Action: wikipedia: AI\n",
      "PAUSE \n",
      "\n",
      " -- running wikipedia AI\n",
      "Observation: Artificial intelligence (<span class=\"searchmatch\">AI</span>), in its broadest sense, is intelligence exhibited by machines, particularly computer systems. It is a field of research in\n",
      "Thought: This is a good start, but I need to make sure my answer is comprehensive.  \n",
      "\n",
      "Action: wikipedia: AI \n",
      "PAUSE \n",
      "\n",
      " -- running wikipedia AI \n",
      "Observation: Artificial intelligence (<span class=\"searchmatch\">AI</span>), in its broadest sense, is intelligence exhibited by machines, particularly computer systems. It is a field of research in\n",
      "Thought: Wikipedia seems to be cutting off.  I should probably try a different approach. I think I have enough information to formulate an answer. \n",
      "\n",
      "Answer: AI, or Artificial Intelligence, refers to the ability of machines, especially computers, to perform tasks that typically require human intelligence, such as learning, problem-solving, and decision-making. It is a rapidly developing field of research with the goal of creating systems that can mimic human cognitive abilities. \n",
      "\n"
     ]
    },
    {
     "data": {
      "text/plain": [
       "'Thought: Wikipedia seems to be cutting off.  I should probably try a different approach. I think I have enough information to formulate an answer. \\n\\nAnswer: AI, or Artificial Intelligence, refers to the ability of machines, especially computers, to perform tasks that typically require human intelligence, such as learning, problem-solving, and decision-making. It is a rapidly developing field of research with the goal of creating systems that can mimic human cognitive abilities. \\n'"
      ]
     },
     "execution_count": 27,
     "metadata": {},
     "output_type": "execute_result"
    }
   ],
   "source": [
    "query(\"what is AI\") "
   ]
  },
  {
   "cell_type": "code",
   "execution_count": 28,
   "metadata": {},
   "outputs": [],
   "source": [
    "\n",
    "next_prompt=\"Tell me about the current gdp of PAKISATN  from Wikipedia.\""
   ]
  },
  {
   "cell_type": "code",
   "execution_count": 29,
   "metadata": {},
   "outputs": [
    {
     "name": "stdout",
     "output_type": "stream",
     "text": [
      "Thought: I need to check Simon's blog for information about AI.\n",
      "\n",
      "Action: simon_blog_search: AI\n",
      "PAUSE \n",
      "\n",
      " -- running simon_blog_search AI\n",
      "Observation: It's OK to call it Artificial Intelligence: Update 9th January 2024: This post was clumsily written and failed to make the point I wanted it to make. I've published a follow-up, What I should have said about the term Artificial Intelligence which you should read instead.\n",
      "My original post follows.\n",
      "\n",
      "\n",
      "We need to be having high quality conversations about AI: what it can and can't do, its many risks and pitfalls and how to integrate it into society in the most beneficial ways possible.\n",
      "Any time I write anything that mentions AI it's inevitable that someone will object to the very usage of the term.\n",
      "Strawman: \"Don't call it AI! It's not actually intelligent - it's just spicy autocomplete.\"\n",
      "That strawman is right: it's not \"intelligent\" in the same way that humans are. And \"spicy autocomplete\" is actually a pretty good analogy for how a lot of these things work. But I still don't think this argument is a helpful contribution to the discussion.\n",
      "We need an agreed term for this class of technology, in order to have conversations\n",
      "Thought: Simon has written about AI and even acknowledges the debate around the term.\n",
      "\n",
      "Action: calculate: 2024 - 2023 \n",
      "PAUSE \n",
      "\n",
      " -- running calculate 2024 - 2023 \n",
      "Observation: 1\n",
      "Thought: Simon updated his blog post about AI in 2024. \n",
      "\n",
      "Answer: Yes, Simon has written about AI. \n",
      "\n"
     ]
    },
    {
     "data": {
      "text/plain": [
       "'Thought: Simon updated his blog post about AI in 2024. \\n\\nAnswer: Yes, Simon has written about AI. \\n'"
      ]
     },
     "execution_count": 29,
     "metadata": {},
     "output_type": "execute_result"
    }
   ],
   "source": [
    "query(\"Has Simon written about AI?\")"
   ]
  },
  {
   "cell_type": "code",
   "execution_count": 30,
   "metadata": {},
   "outputs": [
    {
     "name": "stdout",
     "output_type": "stream",
     "text": [
      "'Answer: Yes, Simon has written about AI. \n",
      "'\n"
     ]
    }
   ],
   "source": [
    "print(\"'Answer: Yes, Simon has written about AI. \\n'\")"
   ]
  },
  {
   "cell_type": "code",
   "execution_count": 33,
   "metadata": {},
   "outputs": [
    {
     "name": "stdout",
     "output_type": "stream",
     "text": [
      "Thought: I should search for the capital of the USA on Wikipedia. \n",
      "\n",
      "Action: wikipedia: United States \n",
      "PAUSE  \n",
      "\n",
      " -- running wikipedia United States \n",
      "Observation: The <span class=\"searchmatch\">United</span> <span class=\"searchmatch\">States</span> of America (USA), commonly known as the <span class=\"searchmatch\">United</span> <span class=\"searchmatch\">States</span> (U.S.) or America, is a country primarily located in North America. It is a federal\n",
      "Thought: The observation mentions the US is located in North America and is a country, but I need to find its capital. \n",
      "\n",
      "Action: wikipedia: United States \n",
      "PAUSE  \n",
      "\n",
      " -- running wikipedia United States \n",
      "Observation: The <span class=\"searchmatch\">United</span> <span class=\"searchmatch\">States</span> of America (USA), commonly known as the <span class=\"searchmatch\">United</span> <span class=\"searchmatch\">States</span> (U.S.) or America, is a country primarily located in North America. It is a federal\n",
      "Thought: I need to keep looking for the capital city. Perhaps I should rephrase my Wikipedia search.\n",
      "\n",
      "Action: wikipedia: capital of the United States\n",
      "PAUSE \n",
      "\n",
      " -- running wikipedia capital of the United States\n",
      "Observation: This is a list <span class=\"searchmatch\">of</span> <span class=\"searchmatch\">capital</span> cities <span class=\"searchmatch\">of</span> <span class=\"searchmatch\">the</span> <span class=\"searchmatch\">United</span> <span class=\"searchmatch\">States</span>, including places that serve or have served as federal, state, insular area, territorial, colonial\n",
      "Thought:  I see it! The Wikipedia search gave me a list of capitals. \n",
      "\n",
      "Action: wikipedia: capital of the United States \n",
      "PAUSE \n",
      "\n",
      " -- running wikipedia capital of the United States \n",
      "Observation: This is a list <span class=\"searchmatch\">of</span> <span class=\"searchmatch\">capital</span> cities <span class=\"searchmatch\">of</span> <span class=\"searchmatch\">the</span> <span class=\"searchmatch\">United</span> <span class=\"searchmatch\">States</span>, including places that serve or have served as federal, state, insular area, territorial, colonial\n",
      "Thought: I need to keep looking for the capital city. Maybe I should try a different search term.\n",
      "\n",
      "Action: wikipedia: Washington D.C.\n",
      "PAUSE \n",
      "\n",
      "\n",
      "\n",
      "\n",
      "\n",
      " -- running wikipedia Washington D.C.\n",
      "Observation: <span class=\"searchmatch\">Washington</span>, <span class=\"searchmatch\">D.C</span>., formally the District of Columbia and commonly known as <span class=\"searchmatch\">Washington</span> or <span class=\"searchmatch\">D.C</span>., is the capital city and federal district of the United States\n"
     ]
    }
   ],
   "source": [
    "query(\"can you tell me capital of usa?\")"
   ]
  }
 ],
 "metadata": {
  "kernelspec": {
   "display_name": "Python 3",
   "language": "python",
   "name": "python3"
  },
  "language_info": {
   "codemirror_mode": {
    "name": "ipython",
    "version": 3
   },
   "file_extension": ".py",
   "mimetype": "text/x-python",
   "name": "python",
   "nbconvert_exporter": "python",
   "pygments_lexer": "ipython3",
   "version": "3.10.16"
  }
 },
 "nbformat": 4,
 "nbformat_minor": 2
}
